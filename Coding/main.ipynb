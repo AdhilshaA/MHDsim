{
 "cells": [
  {
   "cell_type": "markdown",
   "metadata": {},
   "source": [
    "# P464 - MHD Project\n",
    "- Implemented by [Adhilsha A](https://www.github.com/AdhilshaA)\n",
    "- Last updated on *14-03-2024*\n",
    "\n",
    "This website follows the updates on my project on MHD. The project is about the `study of the Galactic Dynamos`. Each task in the project gets one step closer to the final goal. The project is divided into 3 tasks.\n",
    "________"
   ]
  },
  {
   "cell_type": "markdown",
   "metadata": {},
   "source": [
    "## TASK 1: Solving the diffusion equation"
   ]
  },
  {
   "cell_type": "markdown",
   "metadata": {},
   "source": [
    "### 1.1 Introduction\n",
    "\n",
    "The first task is to solve the diffusion equation in 1D. The diffusion equation is given by:\n",
    "$$ \\frac{\\partial \\overline B_r}{\\partial t} = - \\frac{\\overline V}{r} \\frac{\\partial}{\\partial r}(r\\overline B_r) -  \\frac{\\partial}{\\partial z}(\\overline V_z \\overline B_r) -  \\frac{\\partial}{\\partial z}(\\alpha \\overline B_{\\phi}) + \\eta_t \\left[  \\frac{\\partial}{\\partial r} \\left( \\frac{1}{r}  \\frac{\\partial}{\\partial r}(r \\overline B_r)\\right) +  \\frac{\\partial ^2 \\overline B_r}{\\partial z^2} \\right] $$\n",
    "\n",
    "$$ \\frac{\\partial \\overline B_{\\phi}}{\\partial t} = - q\\Omega \\overline B_{r} -  \\frac{\\partial}{\\partial r}(\\overline V_r \\overline B_{\\phi}) -  \\frac{\\partial}{\\partial z}(\\overline V_z \\overline B_{\\phi}) +  \\frac{\\partial}{\\partial z}(\\alpha \\overline B_{r}) + \\eta_t \\left[  \\frac{\\partial}{\\partial r} \\left( \\frac{1}{r}  \\frac{\\partial}{\\partial r}(r \\overline B_{\\phi})\\right) +  \\frac{\\partial ^2 \\overline B_{\\phi}}{\\partial z^2} \\right] $$\n",
    "\n",
    "where $\\overline B_r$, $\\overline B_{\\phi}$ and $\\overline B_z$ are the components of the magnetic field, $\\overline V_r$, $\\overline V_{\\phi}$ and $\\overline V_z$ are the components of the velocity field.\n",
    "\n",
    "For this this task, we solve the diffusion equation omitting the $\\nabla \\times (\\overline V \\times \\overline B)$ and $\\alpha$ terms. The equation we have to solve becomes:\n",
    "$$ \\frac{\\partial \\overline B_r}{\\partial t} = \\eta_t \\left[  \\frac{\\partial}{\\partial r} \\left( \\frac{1}{r}  \\frac{\\partial}{\\partial r}(r \\overline B_r)\\right) +  \\frac{\\partial ^2 \\overline B_r}{\\partial z^2} \\right] $$\n",
    "\n",
    "$$ \\frac{\\partial \\overline B_{\\phi}}{\\partial t} = \\eta_t \\left[  \\frac{\\partial}{\\partial r} \\left( \\frac{1}{r}  \\frac{\\partial}{\\partial r}(r \\overline B_{\\phi})\\right) +  \\frac{\\partial ^2 \\overline B_{\\phi}}{\\partial z^2} \\right] $$\n",
    "\n",
    "Since both $\\overline B_r$ and $\\overline B_{\\phi}$ have same form of equation, we generalize the form of the equation to:\n",
    "$$ \\frac{\\partial \\overline B}{\\partial t} = \\eta_t \\left[  \\frac{\\partial}{\\partial r} \\left( \\frac{1}{r}  \\frac{\\partial}{\\partial r}(r \\overline B)\\right) +  \\frac{\\partial ^2 \\overline B}{\\partial z^2} \\right] $$"
   ]
  },
  {
   "cell_type": "markdown",
   "metadata": {},
   "source": [
    "### 1.2 Equation forms\n",
    "\n",
    "In case of $\\overline B_r(z)$ and $\\overline B_{\\phi}(z)$, the equations become:\n",
    "$$ \\frac{\\partial \\overline B}{\\partial t} = \\eta_t \\frac{\\partial ^2 \\overline B}{\\partial z^2}$$\n",
    "\n",
    "In case of $\\overline B_r(r)$ and $\\overline B_{\\phi}(r)$ under no-$z$ appproximation, the equations become:\n",
    "$$ \\frac{\\partial \\overline B}{\\partial t} = \\eta_t \\left[  \\frac{\\partial}{\\partial r} \\left( \\frac{1}{r}  \\frac{\\partial}{\\partial r}(r \\overline B)\\right) -  \\frac{\\pi ^2}{4 h^2}\\overline B \\right] $$\n",
    "\n",
    "On expanding the equation, we get:\n",
    "$$ \\frac{\\partial \\overline B}{\\partial t} = \\eta_t \\left[ \\frac{\\partial ^2 \\overline B}{\\partial r^2} +  \\frac{1}{r}  \\frac{\\partial \\overline B}{\\partial r} - \\frac{\\overline B}{r^2}  -  \\frac{\\pi ^2}{4 h^2}\\overline B \\right]$$\n",
    "\n",
    "These are the equations to be solved in this task.\n",
    "\n",
    "### 1.3 Boundary conditions\n",
    "\n",
    "We will be using the simplest boundary conditions for this task. The boundary conditions are:\n",
    "$$ \\overline B_r = \\overline B_{\\phi} = 0 \\quad \\text{at} \\quad (z = -h, h)\\text{ or }(r = 0,r_{max}) $$\n",
    "\n",
    "We will be taking dimensionless units with $h = 1$, $\\eta_t = 1$.\n",
    "\n",
    "In $r$ implementation, we will be starting with $r$ = 0.01 since the value $r = 0$ is can possibly cause division by zero errors."
   ]
  },
  {
   "cell_type": "markdown",
   "metadata": {},
   "source": [
    "### 1.4 Implementation\n",
    "\n",
    "For our implementation we will be using finite difference method for defining the spatial derivatives and RK4 for the time stepping / evolution. The code is available in [Github](linktoGithub).\n",
    "\n",
    "#### 1.4.1 Spatial derivative\n",
    "\n",
    "The spatial derivatives are calculated using the finite difference method. here, we are using 6th order finite difference method for the spatial derivatives. The 6th order finite difference method is given by:\n",
    "$$ \\frac{d f}{d x} = \\frac{1}{60\\delta x}\\left( - f_{i-3} + 9f_{i-2} - 45f_{i-1} + 45f_{i+1} - 9f_{i+2} + f_{i+3} \\right) $$\n",
    "$$ \\frac{d^2 f}{d x^2} = \\frac{1}{180\\delta x^2}\\left( 2f_{i-3} - 27f_{i-2} + 270f_{i-1} - 490f_{i} + 270f_{i+1} - 27f_{i+2} + 2f_{i+3} \\right) $$\n",
    "\n",
    "Other orders can be used and is available for use in the code.\n",
    "\n",
    "For the sake of obtaining smooth derivatives as well for the sake of maintaining the boundary conditions, we use `ghost zones`. By default, 'relative anti-symmetric' ghost zones are used where the ghost cell at $i$ distance away from boundary $b$ is given by:\n",
    "$$ f_{b-i} = 2f_{b} - f_{b+i} \\quad \\text{at the start of the spatial domain} $$\n",
    "$$ f_{b+i} = 2f_{b} - f_{b-i} \\quad \\text{at the end of the spatial domain} $$\n",
    "where $i = 1, 2, 3, ..., n$ ($n$ is the half the order of the finite difference method).\n",
    "\n",
    "Other ghost zones types, such as 'symmetric' and 'anti-symmetric' can also be used and is available for use in the code.\n",
    "\n",
    "Using the 6th order finite difference method and 'relative anti-symmetric' ghost zones, a following magnetic field and the spatial derivatives are obtained (test case):\n",
    "\n",
    "![sample field](\\figures\\initial_condition_B.png)\n",
    "![First spatial derivative](\\figures\\first_spatial_derivative.png)\n",
    "![Second spatial derivative](\\figures\\second_spatial_derivative.png)\n",
    "\n",
    "As you can see the spatial derivatives are smooth and the second derivative is zero at the boundaries as expected from the 'relative anti-symmetric' ghost zones. This works exceptionally well for the $z$ implementation. For the $r$ implementation, the ghost zones cannot help much in keeping the boundary conditions constant as the equation contains first and second derivatives as well as the function itself. Hence, the boundary conditions are not maintained well in the $r$ implementation. This is a known issue and is being worked on.\n",
    "\n",
    "#### 1.4.2 RK4 time stepping\n",
    "\n",
    "The time stepping is done using the RK4 method. Our evolution function can be given of form:\n",
    "$$ \\frac{\\partial \\overline B}{\\partial t} = f(\\overline B, t) $$\n",
    "Then, the RK4 method evolution for a single time step can be given by:\n",
    "$$ \\kappa_1 = \\delta t f(\\overline B, t) $$\n",
    "$$ \\kappa_2 = \\delta t f(\\overline B + \\frac{\\kappa_1}{2}, t + \\frac{\\delta t}{2}) $$\n",
    "$$ \\kappa_3 = \\delta t f(\\overline B + \\frac{\\kappa_2}{2}, t + \\frac{\\delta t}{2}) $$\n",
    "$$ \\kappa_4 = \\delta t f(\\overline B + k_3, t + \\delta t) $$\n",
    "\n",
    "$$ \\overline B(t + \\delta t) = \\overline B(t) + \\frac{1}{6}(\\kappa_1 + 2\\kappa_2 + 2\\kappa_3 + \\kappa_4) $$\n",
    "\n",
    "\n",
    "The thing to note here about the generalized form, with regards to the RK4 method, is that:\n",
    "- The spatial derivatives do not change values with the change ($\\overline B \\rightarrow \\overline B + \\kappa/2$) in the RK4 method. This is due to the symmetry of the spatial derivative equations. Hence, the spatial derivatives are calculated only once at the start of the time step. Thus, it is not mentioned in the equation form.\n",
    "\n",
    "Our method, as mentioned above, is to find the spatial derivatives using finite difference method at a certain time step and then use the RK4 method to evolve the system to the next time step. This is done repetitively to get the solution at all time steps."
   ]
  },
  {
   "cell_type": "markdown",
   "metadata": {},
   "source": [
    "### 1.5 Constants and parameters for simulation\n",
    "\n",
    "For $z$ implementation, we will be using the following parameters:\n",
    "- $z\\ \\epsilon\\ (-1, 1)$ `# range of z`\n",
    "- $t\\ \\epsilon\\ [0, 1]$ `# range of time`\n",
    "- $N_z = 80$ `# number of spatial steps`\n",
    "- $N_t = 5000$ `# number of time steps`\n",
    "- $order = 6$ `# order of the finite difference method`\n",
    "- *ghostzone_type* = 'relative anti-symmetric' `# type of ghostzone`\n",
    "\n",
    "For $r$ implementation, we will be using the following parameters:\n",
    "- $r\\ \\epsilon\\ (0.01, 8.01)$ `# range of r`\n",
    "- $t\\ \\epsilon\\ [0, 1]$ `# range of time`\n",
    "- $N_r = 100$ `# number of spatial steps`\n",
    "- $N_t = 4000$ `# number of time steps`\n",
    "- $order = 6$ `# order of the finite difference method`\n",
    "- *ghostzone_type* = 'relative anti-symmetric' `# type of ghostzone`\n",
    "\n",
    "The seed field used for the z-implementation is:\n",
    "\n",
    "$$B_{\\phi}(z) = \n",
    "3 \\sin \\left( \\frac{{z - z_i}}{{z_f - z_i}} \\pi \\right) + 1 \\sin \\left( \\frac{{z - z_i}}{{z_f - z_i}} 2\\pi \\right) + 2 \\sin \\left( \\frac{{z - z_i}}{{z_f - z_i}} 5\\pi \\right)\n",
    "$$\n",
    "\n",
    "whereas the seed field used for the r-implementation is:\n",
    "\n",
    "$$B_{\\phi}(r) =\n",
    "3 \\sin \\left( \\frac{{r - r_i}}{{r_f - r_i}} \\pi \\right) + 1 \\sin \\left( \\frac{{r - r_i}}{{r_f - r_i}} 2\\pi \\right) + 2 \\sin \\left( \\frac{{r - r_i}}{{r_f - r_i}} 5\\pi \\right)\n",
    "$$\n",
    "\n"
   ]
  },
  {
   "cell_type": "markdown",
   "metadata": {},
   "source": [
    "The results are:\n",
    "\n",
    "![image](\\figures\\evolution_B_phi_z.png)\n",
    "![image](\\figures\\evolution_B_phi_r.png)"
   ]
  },
  {
   "cell_type": "markdown",
   "metadata": {},
   "source": [
    "### 1.5.1 Study of Magnetic field strength and its evolution over time\n",
    "\n",
    "For this part, I am setting $\\overline B_r = 0$ and evolving $\\overline B_{\\phi}$ over time. The magnetic field strength, $|B_{\\phi}|$, is given at different points in the spatial domain as a function of time. The results are (N.B. The decay rate is given in the legend off the plots):\n",
    "\n",
    "![B_phi_z_strength__timesteps](\\figures\\B_phi_z_strength__timesteps.png)\n",
    "![B_phi_r_strength__timesteps](\\figures\\B_phi_r_strength__timesteps.png)\n",
    "\n",
    "from these results, taking the middle point in the spatial domain, the magnetic field strength, $|B_{\\phi}|$, is given as a function of time in *log*-scale. Then it can be fitted to find the `decay rate` as well. The results are:\n",
    "\n",
    "![B_phi_z_decay](\\figures\\B_phi_z_decay.png)\n",
    "![B_phi_r_decay](\\figures\\B_phi_r_decay.png)"
   ]
  },
  {
   "cell_type": "markdown",
   "metadata": {},
   "source": [
    "### 1.5.2 Magnetic field with non-zero $\\overline B_r$ and $\\overline B_{\\phi}$ to study the pitch angle.\n",
    "\n",
    "For this part, I am setting the seed $\\overline B_r$ and $\\overline B_{\\phi}$ to non-zero values and evolving them over time. The pitch angle is given by:\n",
    "$$p = \\tan^{-1}\\left(\\frac{\\overline B_{r}}{\\overline B_{\\phi}}\\right)$$\n",
    "\n",
    "The seed fields taken for this simulation are, for the z-implementation:\n",
    "$$\n",
    "\\text{{B}}_{\\phi}(z) = 3 \\sin \\left( \\frac{{z - z_i}}{{z_f - z_i}} \\pi \\right) + 1 \\sin \\left( \\frac{{z - z_i}}{{z_f - z_i}} 2\\pi \\right) + 2 \\sin \\left( \\frac{{z - z_i}}{{z_f - z_i}} 5\\pi \\right)\n",
    "$$\n",
    "\n",
    "$$\n",
    "\\text{{B}}_{r}(z) = 3 \\sin \\left( \\frac{{z - z_i}}{{z_f - z_i}} \\pi \\right) + 2.5 \\sin \\left( \\frac{{z - z_i}}{{z_f - z_i}} 2\\pi \\right) + 1 \\sin \\left( \\frac{{z - z_i}}{{z_f - z_i}} 5\\pi \\right)\n",
    "$$\n",
    "and for the r-implementation:\n",
    "$$\n",
    "\\text{{B}}_{\\phi}(r) = 3 \\sin \\left( \\frac{{r - r_i}}{{r_f - r_i}} \\pi \\right) + 1 \\sin \\left( \\frac{{r - r_i}}{{r_f - r_i}} 2\\pi \\right) + 2 \\sin \\left( \\frac{{r - r_i}}{{r_f - r_i}} 5\\pi \\right)\n",
    "$$\n",
    "\n",
    "$$\n",
    "\\text{{B}}_{r}(r) = 3 \\sin \\left( \\frac{{r - r_i}}{{r_f - r_i}} \\pi \\right) + 2.5 \\sin \\left( \\frac{{r - r_i}}{{r_f - r_i}} 2\\pi \\right) + 1 \\sin \\left( \\frac{{r - r_i}}{{r_f - r_i}} 5\\pi \\right)\n",
    "$$\n",
    "\n",
    "The time evolution of the fields are given below for reference:\n",
    "\n",
    "![Bphi_Br_z_r_evolution](\\figures\\Bphi_Br_z_r_evolution.png)\n",
    "\n",
    "\n",
    "The results of the pitch angle evolution at certain specific spatial steps were obtained as well. The results:\n",
    "\n",
    "![pitch_angle_z_timeevolution_at_diff_spatialsteps](\\figures\\pitch_angle_z_timeevolution_at_diff_spatialsteps.png)\n",
    "![pitch_angle_r_timeevolution_at_diff_spatialsteps](\\figures\\pitch_angle_r_timeevolution_at_diff_spatialsteps.png)\n",
    "\n",
    "To get another perspective, the pitch angle variation over spatial domain at different time steps is also found. The results are:\n",
    "\n",
    "![pitch_angle_z_spatialevolution_at_diff_timesteps.png](\\figures\\pitch_angle_z_spatialevolution_at_diff_timesteps.png)\n",
    "![pitch_angle_r_spatialvariation_at_diff_timesteps](\\figures\\pitch_angle_r_spatialevolution_at_diff_timesteps.png)"
   ]
  },
  {
   "cell_type": "markdown",
   "metadata": {},
   "source": [
    "#### 1.5.3 Study of Magnetic field evolution with different seed fields and different boundary conditions\n",
    "\n"
   ]
  },
  {
   "cell_type": "code",
   "execution_count": null,
   "metadata": {},
   "outputs": [],
   "source": []
  },
  {
   "cell_type": "code",
   "execution_count": null,
   "metadata": {},
   "outputs": [],
   "source": []
  }
 ],
 "metadata": {
  "kernelspec": {
   "display_name": "venv",
   "language": "python",
   "name": "python3"
  },
  "language_info": {
   "codemirror_mode": {
    "name": "ipython",
    "version": 3
   },
   "file_extension": ".py",
   "mimetype": "text/x-python",
   "name": "python",
   "nbconvert_exporter": "python",
   "pygments_lexer": "ipython3",
   "version": "3.10.11"
  }
 },
 "nbformat": 4,
 "nbformat_minor": 2
}
